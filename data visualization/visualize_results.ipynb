{
 "cells": [
  {
   "cell_type": "code",
   "execution_count": 1,
   "id": "4f9af074",
   "metadata": {
    "_cell_guid": "b1076dfc-b9ad-4769-8c92-a6c4dae69d19",
    "_uuid": "8f2839f25d086af736a60e9eeb907d3b93b6e0e5",
    "execution": {
     "iopub.execute_input": "2024-05-28T03:38:11.914115Z",
     "iopub.status.busy": "2024-05-28T03:38:11.913219Z",
     "iopub.status.idle": "2024-05-28T03:38:12.848873Z",
     "shell.execute_reply": "2024-05-28T03:38:12.847633Z"
    },
    "papermill": {
     "duration": 0.943773,
     "end_time": "2024-05-28T03:38:12.851134",
     "exception": false,
     "start_time": "2024-05-28T03:38:11.907361",
     "status": "completed"
    },
    "tags": []
   },
   "outputs": [
    {
     "name": "stdout",
     "output_type": "stream",
     "text": [
      "/kaggle/input/cif5cif5/rl3_bs512_epochs60_SGD_lr0.002_momentum0.9.json\n",
      "/kaggle/input/cif5cif5/rl15_bs512_epochs60_SGD_lr0.002_momentum0.9.json\n",
      "/kaggle/input/cif5cif5/rl6_bs512_epochs60_SGD_lr0.002_momentum0.9.json\n",
      "/kaggle/input/mnist5mnist5/rl15_bs512_epochs30_SGD_lr0.002_momentum0.0.json\n",
      "/kaggle/input/mnist5mnist5/rl6_bs512_epochs30_SGD_lr0.002_momentum0.0.json\n",
      "/kaggle/input/mnist5mnist5/rl3_bs512_epochs30_SGD_lr0.002_momentum0.0.json\n",
      "/kaggle/input/stl5stl5/rl3_bs64_epochs30_SGD_lr0.002_momentum0.0.json\n",
      "/kaggle/input/stl5stl5/rl15_bs64_epochs30_SGD_lr0.002_momentum0.0.json\n",
      "/kaggle/input/stl5stl5/rl6_bs64_epochs30_SGD_lr0.002_momentum0.0.json\n",
      "/kaggle/input/mn5fmn5/rl10_bs512_epochs30_SGD_lr0.002_momentum0.0.json\n",
      "/kaggle/input/mn5fmn5/rl15_bs512_epochs30_SGD_lr0.002_momentum0.0.json\n",
      "/kaggle/input/mn5fmn5/rl6_bs512_epochs30_SGD_lr0.002_momentum0.0.json\n",
      "/kaggle/input/mn5fmn5/rl3_bs512_epochs30_SGD_lr0.002_momentum0.0.json\n",
      "/kaggle/input/cifar5shv5/rl15_bs512_epochs45_SGD_lr0.002_momentum0.0.json\n",
      "/kaggle/input/cifar5shv5/rl3_bs512_epochs45_SGD_lr0.002_momentum0.0.json\n",
      "/kaggle/input/cifar5shv5/rl6_bs512_epochs45_SGD_lr0.002_momentum0.0.json\n"
     ]
    }
   ],
   "source": [
    "# This Python 3 environment comes with many helpful analytics libraries installed\n",
    "# It is defined by the kaggle/python Docker image: https://github.com/kaggle/docker-python\n",
    "# For example, here's several helpful packages to load\n",
    "\n",
    "import numpy as np # linear algebra\n",
    "import pandas as pd # data processing, CSV file I/O (e.g. pd.read_csv)\n",
    "\n",
    "# Input data files are available in the read-only \"../input/\" directory\n",
    "# For example, running this (by clicking run or pressing Shift+Enter) will list all files under the input directory\n",
    "\n",
    "import os\n",
    "for dirname, _, filenames in os.walk('/kaggle/input'):\n",
    "    for filename in filenames:\n",
    "        print(os.path.join(dirname, filename))\n",
    "\n",
    "# You can write up to 20GB to the current directory (/kaggle/working/) that gets preserved as output when you create a version using \"Save & Run All\" \n",
    "# You can also write temporary files to /kaggle/temp/, but they won't be saved outside of the current session"
   ]
  },
  {
   "cell_type": "code",
   "execution_count": 2,
   "id": "3a0bf492",
   "metadata": {
    "execution": {
     "iopub.execute_input": "2024-05-28T03:38:12.860101Z",
     "iopub.status.busy": "2024-05-28T03:38:12.859242Z",
     "iopub.status.idle": "2024-05-28T03:38:13.229932Z",
     "shell.execute_reply": "2024-05-28T03:38:13.228350Z"
    },
    "papermill": {
     "duration": 0.376778,
     "end_time": "2024-05-28T03:38:13.231498",
     "exception": true,
     "start_time": "2024-05-28T03:38:12.854720",
     "status": "failed"
    },
    "tags": []
   },
   "outputs": [
    {
     "ename": "NameError",
     "evalue": "name 'mn5fmn5_rl3' is not defined",
     "output_type": "error",
     "traceback": [
      "\u001b[0;31m---------------------------------------------------------------------------\u001b[0m",
      "\u001b[0;31mNameError\u001b[0m                                 Traceback (most recent call last)",
      "Cell \u001b[0;32mIn[2], line 11\u001b[0m\n\u001b[1;32m      9\u001b[0m m5m5_rl3 \u001b[38;5;241m=\u001b[39m pd\u001b[38;5;241m.\u001b[39mread_json(m5m5_rl3)\n\u001b[1;32m     10\u001b[0m \u001b[38;5;66;03m#mn5fmn5_rl10 = pd.read_json(mn5fmn5_rl10)\u001b[39;00m\n\u001b[0;32m---> 11\u001b[0m \u001b[43mmn5fmn5_rl3\u001b[49m\u001b[38;5;241m.\u001b[39mhead()\n",
      "\u001b[0;31mNameError\u001b[0m: name 'mn5fmn5_rl3' is not defined"
     ]
    }
   ],
   "source": [
    "# 1 green, 2 orange\n",
    "m5m5_rl15 = \"/kaggle/input/mnist5mnist5/rl15_bs512_epochs30_SGD_lr0.002_momentum0.0.json\"\n",
    "m5m5_rl6 = \"/kaggle/input/mnist5mnist5/rl6_bs512_epochs30_SGD_lr0.002_momentum0.0.json\"\n",
    "m5m5_rl3 = \"/kaggle/input/mnist5mnist5/rl3_bs512_epochs30_SGD_lr0.002_momentum0.0.json\"\n",
    "#m5m5_rl10 = \"/kaggle/input/mn5fmn5/rl10_bs512_epochs30_SGD_lr0.002_momentum0.0.json\"\n",
    "\n",
    "m5m5_rl15 = pd.read_json(m5m5_rl15)\n",
    "m5m5_rl6 = pd.read_json(m5m5_rl6)\n",
    "m5m5_rl3 = pd.read_json(m5m5_rl3)\n",
    "#mn5fmn5_rl10 = pd.read_json(mn5fmn5_rl10)\n",
    "mn5fmn5_rl3.head()"
   ]
  },
  {
   "cell_type": "code",
   "execution_count": null,
   "id": "ae36350a",
   "metadata": {
    "execution": {
     "iopub.execute_input": "2024-05-27T22:34:57.731795Z",
     "iopub.status.busy": "2024-05-27T22:34:57.731361Z",
     "iopub.status.idle": "2024-05-27T22:34:58.390797Z",
     "shell.execute_reply": "2024-05-27T22:34:58.389148Z",
     "shell.execute_reply.started": "2024-05-27T22:34:57.731761Z"
    },
    "papermill": {
     "duration": null,
     "end_time": null,
     "exception": null,
     "start_time": null,
     "status": "pending"
    },
    "tags": []
   },
   "outputs": [],
   "source": [
    "import matplotlib.pyplot as plt\n",
    "import pandas as pd\n",
    "\n",
    "### CHANGE THESE ###\n",
    "\n",
    "# df name\n",
    "df = m5m5_rl15\n",
    "\n",
    "# Experiment name to save the plot\n",
    "experiment = \"m5m5\"\n",
    "\n",
    "# number of epochs\n",
    "nof_epochs = 30\n",
    "\n",
    "# run length\n",
    "rl = 15\n",
    "\n",
    "# Number of steps in 1 epoch. Calculated as: (num_data_points // batch size)+1\n",
    "step_sizes = [60,58]\n",
    "\n",
    "### ### ### ### ### ###\n",
    "\n",
    "\n",
    "nof_steps = [rl*step_sizes[0], rl*step_sizes[1]]\n",
    "x_tcks = np.linspace(0,60,7)\n",
    "\n",
    "# Plotting\n",
    "plt.figure(figsize=(10, 6))\n",
    "\n",
    "# Filter the first 138 steps for batch_head 1 and 2\n",
    "step_counter = 0\n",
    "for i in range(int(nof_epochs*2/rl)):\n",
    "    color = [\"green\",\"orange\"][i%2]\n",
    "    step_size = step_sizes[i%2]\n",
    "    nof_step = nof_steps[i%2]\n",
    "    \n",
    "    df_batch = df.iloc[step_counter:step_counter+nof_step]\n",
    "    \n",
    "    x_steps = np.linspace(i*rl,(i+1)*rl,df_batch.shape[0])\n",
    "    step_counter+=nof_step\n",
    "    \n",
    "    plt.scatter(x_steps, (df_batch['all_accuracies']/100), color=color, s=2)\n",
    "\n",
    "y_tcks = np.linspace(0,1,11)\n",
    "# Adding titles and labels\n",
    "plt.xticks(x_tcks,x_tcks.astype(int))\n",
    "plt.yticks(y_tcks)\n",
    "\n",
    "plt.title('Run Length '+str(rl))\n",
    "plt.xlabel('Epoch')\n",
    "plt.ylabel('Train Accuracy')\n",
    "plt.legend()\n",
    "\n",
    "plt.savefig(experiment + \"-\" + str(rl) +\".png\")\n",
    "\n",
    "plt.show()"
   ]
  },
  {
   "cell_type": "code",
   "execution_count": null,
   "id": "06b82ee7",
   "metadata": {
    "papermill": {
     "duration": null,
     "end_time": null,
     "exception": null,
     "start_time": null,
     "status": "pending"
    },
    "tags": []
   },
   "outputs": [],
   "source": []
  }
 ],
 "metadata": {
  "kaggle": {
   "accelerator": "none",
   "dataSources": [
    {
     "datasetId": 5096188,
     "sourceId": 8532509,
     "sourceType": "datasetVersion"
    },
    {
     "datasetId": 5097332,
     "sourceId": 8534087,
     "sourceType": "datasetVersion"
    },
    {
     "datasetId": 5097727,
     "sourceId": 8534643,
     "sourceType": "datasetVersion"
    },
    {
     "datasetId": 5097759,
     "sourceId": 8534685,
     "sourceType": "datasetVersion"
    },
    {
     "datasetId": 5097785,
     "sourceId": 8534725,
     "sourceType": "datasetVersion"
    }
   ],
   "dockerImageVersionId": 30698,
   "isGpuEnabled": false,
   "isInternetEnabled": true,
   "language": "python",
   "sourceType": "notebook"
  },
  "kernelspec": {
   "display_name": "Python 3 (ipykernel)",
   "language": "python",
   "name": "python3"
  },
  "language_info": {
   "codemirror_mode": {
    "name": "ipython",
    "version": 3
   },
   "file_extension": ".py",
   "mimetype": "text/x-python",
   "name": "python",
   "nbconvert_exporter": "python",
   "pygments_lexer": "ipython3",
   "version": "3.11.3"
  },
  "papermill": {
   "default_parameters": {},
   "duration": 4.654317,
   "end_time": "2024-05-28T03:38:13.755453",
   "environment_variables": {},
   "exception": true,
   "input_path": "__notebook__.ipynb",
   "output_path": "__notebook__.ipynb",
   "parameters": {},
   "start_time": "2024-05-28T03:38:09.101136",
   "version": "2.5.0"
  }
 },
 "nbformat": 4,
 "nbformat_minor": 5
}
